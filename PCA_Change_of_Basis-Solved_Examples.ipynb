{
  "metadata": {
    "kernelspec": {
      "name": "python",
      "display_name": "Pyolite",
      "language": "python"
    },
    "language_info": {
      "codemirror_mode": {
        "name": "python",
        "version": 3
      },
      "file_extension": ".py",
      "mimetype": "text/x-python",
      "name": "python",
      "nbconvert_exporter": "python",
      "pygments_lexer": "ipython3",
      "version": "3.8"
    }
  },
  "nbformat_minor": 4,
  "nbformat": 4,
  "cells": [
    {
      "cell_type": "markdown",
      "source": "# Change of Basis - Solved Examples",
      "metadata": {}
    },
    {
      "cell_type": "markdown",
      "source": "In this demonstration, we'll take a look at how to perform change of basis calculations in python. Mainly we'll look at\n- how to denote the basis vectors in numpy\n- how to create the transformation matrix\n- how to perform change of basis",
      "metadata": {}
    },
    {
      "cell_type": "code",
      "source": "#Import the libraries\nimport numpy as np",
      "metadata": {},
      "execution_count": 5,
      "outputs": []
    },
    {
      "cell_type": "markdown",
      "source": "A few conventions before we proceed\n- By default, we'll assume the original basis as B1 and the new basis as B2\n- The original vector representation is denoted as v1 and the new vector representation as v2\n- Matrix M is to be multiplied with v1 to obtain v2",
      "metadata": {}
    },
    {
      "cell_type": "markdown",
      "source": "#### Case 1 - Moving from the standard basis to a non-standard basis",
      "metadata": {}
    },
    {
      "cell_type": "markdown",
      "source": "In this scenario, you are given a point's representation in the standard basis.Your task is to identify the same point's representation in a new set of basis vectors",
      "metadata": {}
    },
    {
      "cell_type": "markdown",
      "source": "**Q** - Let's say you're given a point P which is represented as v1 in the standard basis B1 as shown below",
      "metadata": {}
    },
    {
      "cell_type": "markdown",
      "source": "\\begin{equation*} v_1 = \\begin{bmatrix} 4 \\\\ 9 \\end{bmatrix}\\space in \\space B_1 = \\begin{bmatrix} 1 &0 \\\\ 0 &1 \\end{bmatrix}  \\end{equation*} ",
      "metadata": {}
    },
    {
      "cell_type": "markdown",
      "source": "Now you need to find the same point's representation in a different basis B2, which is denoted as follows",
      "metadata": {}
    },
    {
      "cell_type": "markdown",
      "source": "\\begin{equation*}B_2 = \\begin{bmatrix} 1 \\\\ 2\\end{bmatrix} \\space and \\space \\begin{bmatrix} 1 \\\\ 3\\end{bmatrix}\\end{equation*} ",
      "metadata": {}
    },
    {
      "cell_type": "markdown",
      "source": "\\begin{equation*}or \\space B_2 = \\begin{bmatrix} 1 & 1 \\\\ 2 & 3\\end{bmatrix}\\end{equation*} ",
      "metadata": {}
    },
    {
      "cell_type": "markdown",
      "source": "\\begin{equation*}v_2 = \\begin{bmatrix} 3 \\\\  1\\end{bmatrix} \\end{equation*}",
      "metadata": {}
    },
    {
      "cell_type": "code",
      "source": "#Step - 1 \n#Denoting the new basis vectors as numpy arrays\n#Notice the way the arguments are taken\n\nB2 = np.array([[1,1],[2,3]])\nB2",
      "metadata": {
        "scrolled": true
      },
      "execution_count": 7,
      "outputs": [
        {
          "execution_count": 7,
          "output_type": "execute_result",
          "data": {
            "text/plain": [
              "array([[1, 1],\n",
              "       [2, 3]])"
            ]
          },
          "metadata": {}
        }
      ]
    },
    {
      "cell_type": "code",
      "source": "B2 = np.array([arguments])",
      "metadata": {},
      "execution_count": null,
      "outputs": []
    },
    {
      "cell_type": "markdown",
      "source": "As you can see, numpy creates the matrix by taking in the rows as the arguments. So therefore, first create the basis vector matrix and then pass the arguments.",
      "metadata": {}
    },
    {
      "cell_type": "code",
      "source": "#Step - 2\n#Create the transformation matrix M",
      "metadata": {},
      "execution_count": 1,
      "outputs": []
    },
    {
      "cell_type": "markdown",
      "source": "Now we know that",
      "metadata": {}
    },
    {
      "cell_type": "markdown",
      "source": "\n\\begin{equation*} M = B_2^{-1}* B_1\\end{equation*} \n",
      "metadata": {}
    },
    {
      "cell_type": "markdown",
      "source": "Since B1 is the standard basis vectors which is also the identity matrix, the above equation gets simplified as",
      "metadata": {}
    },
    {
      "cell_type": "markdown",
      "source": "\\begin{equation*} M = B_2^{-1}\\end{equation*} ",
      "metadata": {}
    },
    {
      "cell_type": "code",
      "source": "# M is the inverse of B2\nM = np.linalg.inv(B2)",
      "metadata": {},
      "execution_count": 8,
      "outputs": []
    },
    {
      "cell_type": "code",
      "source": "M",
      "metadata": {},
      "execution_count": 9,
      "outputs": [
        {
          "execution_count": 9,
          "output_type": "execute_result",
          "data": {
            "text/plain": [
              "array([[ 3., -1.],\n",
              "       [-2.,  1.]])"
            ]
          },
          "metadata": {}
        }
      ]
    },
    {
      "cell_type": "code",
      "source": "M @ B2",
      "metadata": {},
      "execution_count": 10,
      "outputs": [
        {
          "execution_count": 10,
          "output_type": "execute_result",
          "data": {
            "text/plain": [
              "array([[1., 0.],\n",
              "       [0., 1.]])"
            ]
          },
          "metadata": {}
        }
      ]
    },
    {
      "cell_type": "code",
      "source": "#Step - 3 \n#Perform the change of basis",
      "metadata": {},
      "execution_count": 11,
      "outputs": []
    },
    {
      "cell_type": "markdown",
      "source": "We know that, in order to get v2 we have the equation as ",
      "metadata": {}
    },
    {
      "cell_type": "markdown",
      "source": "\\begin{equation*} v_2 = M*v_1\\end{equation*} ",
      "metadata": {}
    },
    {
      "cell_type": "code",
      "source": "#Denote v1\nv1 = np.array([[4],[9]])",
      "metadata": {},
      "execution_count": 13,
      "outputs": []
    },
    {
      "cell_type": "code",
      "source": "v1",
      "metadata": {},
      "execution_count": 14,
      "outputs": [
        {
          "execution_count": 14,
          "output_type": "execute_result",
          "data": {
            "text/plain": [
              "array([[4],\n",
              "       [9]])"
            ]
          },
          "metadata": {}
        }
      ]
    },
    {
      "cell_type": "code",
      "source": "#Apply the change of basis formula\n#Multiply the transformation matrix M with v1\n\nv2 = M @ v1",
      "metadata": {},
      "execution_count": 15,
      "outputs": []
    },
    {
      "cell_type": "code",
      "source": "v2",
      "metadata": {},
      "execution_count": 16,
      "outputs": [
        {
          "execution_count": 16,
          "output_type": "execute_result",
          "data": {
            "text/plain": [
              "array([[3.],\n",
              "       [1.]])"
            ]
          },
          "metadata": {}
        }
      ]
    },
    {
      "cell_type": "markdown",
      "source": "So, therefore the same point P's representation in the new basis vectors B2, is given as ",
      "metadata": {}
    },
    {
      "cell_type": "markdown",
      "source": "\\begin{equation*} v_2 = \\begin{bmatrix} 3 \\\\ 1\\end{bmatrix}\\end{equation*} ",
      "metadata": {}
    },
    {
      "cell_type": "markdown",
      "source": "#### Case 2 - Moving from a non-standard basis to the standard basis",
      "metadata": {}
    },
    {
      "cell_type": "markdown",
      "source": "In this scenario, you are given a point's representation in a non-standard basis.Your task is to identify the same point's representation in the standard basis vectors",
      "metadata": {}
    },
    {
      "cell_type": "markdown",
      "source": "Let's take the same example as above in the reverse order",
      "metadata": {}
    },
    {
      "cell_type": "markdown",
      "source": "**Q** - Let's say you're given a point P which is represented as v1 in the non-standard basis B1 as shown below",
      "metadata": {}
    },
    {
      "cell_type": "markdown",
      "source": "\\begin{equation*} v_1 = \\begin{bmatrix} 3\\\\ 1 \\end{bmatrix}\\space in \\space B_1 = \\begin{bmatrix} 1 &1 \\\\ 2 &3 \\end{bmatrix}  \\end{equation*} ",
      "metadata": {}
    },
    {
      "cell_type": "markdown",
      "source": "Now you need to find the same point's representation in the standard basis B2, which is denoted as follows",
      "metadata": {}
    },
    {
      "cell_type": "markdown",
      "source": "\\begin{equation*}B_2 = \\begin{bmatrix} 1 \\\\ 0\\end{bmatrix} \\space and \\space \\begin{bmatrix} 0 \\\\ 1\\end{bmatrix}\\end{equation*} ",
      "metadata": {}
    },
    {
      "cell_type": "markdown",
      "source": "\\begin{equation*}or \\space B_2 = \\begin{bmatrix} 1 & 0 \\\\ 0 & 1\\end{bmatrix}\\end{equation*} ",
      "metadata": {}
    },
    {
      "cell_type": "markdown",
      "source": "Recall the formula for transformation matrix M again",
      "metadata": {}
    },
    {
      "cell_type": "markdown",
      "source": "\\begin{equation*} M = B_2^{-1}* B_1\\end{equation*} ",
      "metadata": {}
    },
    {
      "cell_type": "markdown",
      "source": "In this case B2 is the standard basis or the identity matrix and therefore it's inverse will be B2 itself. Therefore the above equation gets simplified as ",
      "metadata": {}
    },
    {
      "cell_type": "markdown",
      "source": "\\begin{equation*} M = B_1\\end{equation*} ",
      "metadata": {}
    },
    {
      "cell_type": "code",
      "source": "#Step-1 \n#Denote B1 as numpy arrays\nB1 = np.array([[1,1],[2,3]])",
      "metadata": {},
      "execution_count": 25,
      "outputs": []
    },
    {
      "cell_type": "code",
      "source": "#Step-2\n#Find the transformation matrix M\nM = B1",
      "metadata": {},
      "execution_count": 26,
      "outputs": []
    },
    {
      "cell_type": "code",
      "source": "M",
      "metadata": {},
      "execution_count": 27,
      "outputs": [
        {
          "execution_count": 27,
          "output_type": "execute_result",
          "data": {
            "text/plain": [
              "array([[1, 1],\n",
              "       [2, 3]])"
            ]
          },
          "metadata": {}
        }
      ]
    },
    {
      "cell_type": "code",
      "source": "#Step -3 \n#Apply the change of basis formula\n#v2 = M*v1\nv1 = np.array([[3],[1]])\nv2 = M @ v1\nv2",
      "metadata": {},
      "execution_count": 28,
      "outputs": [
        {
          "execution_count": 28,
          "output_type": "execute_result",
          "data": {
            "text/plain": [
              "array([[4],\n",
              "       [9]])"
            ]
          },
          "metadata": {}
        }
      ]
    },
    {
      "cell_type": "markdown",
      "source": "### Summary",
      "metadata": {}
    },
    {
      "cell_type": "markdown",
      "source": "The same point P can have multiple representations in multiple basis vectors. When moving between two set of basis vectors the following rule holds true",
      "metadata": {}
    },
    {
      "cell_type": "markdown",
      "source": "\\begin{equation*} B_1*v_1 = B_2*v_2\\end{equation*} ",
      "metadata": {}
    },
    {
      "cell_type": "markdown",
      "source": "B1 is one set of basis vectors and v1 is the point's representation in B1 whereas B2 is another set of basis vectors and v2 is the same point's representation in B2.",
      "metadata": {}
    },
    {
      "cell_type": "markdown",
      "source": "In the above example, we have shown that",
      "metadata": {}
    },
    {
      "cell_type": "markdown",
      "source": "\\begin{equation*}  \\begin{bmatrix} 1 & 0 \\\\ 0 & 1\\end{bmatrix}* \\begin{bmatrix} 4 \\\\ 9 \\end{bmatrix} = \\begin{bmatrix} 1 & 1 \\\\ 2 & 3\\end{bmatrix}*\\begin{bmatrix} 3 \\\\ 1\\end{bmatrix}\\end{equation*} ",
      "metadata": {}
    },
    {
      "cell_type": "markdown",
      "source": "or in more concrete terms",
      "metadata": {}
    },
    {
      "cell_type": "markdown",
      "source": "\\begin{equation*} 4* \\begin{bmatrix} 1  \\\\ 0 \\end{bmatrix} + 9 * \\begin{bmatrix} 0 \\\\ 1\\end{bmatrix} = 3* \\begin{bmatrix} 1 \\\\ 2\\end{bmatrix} + 1*\\begin{bmatrix} 1 \\\\ 3\\end{bmatrix}\\end{equation*} ",
      "metadata": {}
    },
    {
      "cell_type": "markdown",
      "source": "The above representation is shown in the diagram below",
      "metadata": {}
    },
    {
      "cell_type": "markdown",
      "source": "![Change of Basis](images\\COB2.png)",
      "metadata": {}
    },
    {
      "cell_type": "markdown",
      "source": "**Shortcut for finding M**\n\nOnce we've correctly set the conventions and when our movement is between standard and non-standard basis vectors, it's possible to express M in terms of just the non-standard basis vectors\n\n- If we're moving from a standard basis to a non-standard basis, M is equal to the inverse of the non-standard basis vectors\n\n- If we're moving from a non-standard basis to a standard basis, M is equal to the non-standard basis vectors.",
      "metadata": {}
    },
    {
      "cell_type": "code",
      "source": "",
      "metadata": {},
      "execution_count": null,
      "outputs": []
    }
  ]
}